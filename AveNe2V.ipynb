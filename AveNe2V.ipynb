{
 "cells": [
  {
   "cell_type": "markdown",
   "id": "3f44dafe-c5b3-415b-9c8f-1a245fc3ce37",
   "metadata": {},
   "source": [
    "本程序：\n",
    "1.通过平均电子密度预测电压值\n",
    "2.通过电压预测时均电子密度"
   ]
  },
  {
   "cell_type": "code",
   "execution_count": 1,
   "id": "d40a3ab5-6e09-46ef-ab52-a686b8373465",
   "metadata": {},
   "outputs": [
    {
     "name": "stderr",
     "output_type": "stream",
     "text": [
      "Using backend: pytorch\n",
      "Other supported backends: tensorflow.compat.v1, tensorflow, jax, paddle.\n",
      "paddle supports more examples now and is recommended.\n"
     ]
    }
   ],
   "source": [
    "import time\n",
    "import torch\n",
    "import numpy as np\n",
    "import deepxde as dde\n",
    "import pandas as pd\n",
    "import matplotlib.pyplot as plt\n",
    "from deepxde.nn import activations\n",
    "from deepxde.nn import initializers\n",
    "from deepxde import config\n",
    "from deepxde.nn.pytorch.nn import NN\n",
    "from deepxde.nn.pytorch.fnn import FNN\n",
    "from deepxde.data.data import Tuple\n",
    "from sklearn.preprocessing import StandardScaler  \n",
    "from sklearn.preprocessing import MinMaxScaler"
   ]
  },
  {
   "cell_type": "code",
   "execution_count": 2,
   "id": "6667b87b-9085-4171-bdb6-b2d0acca8ad6",
   "metadata": {},
   "outputs": [
    {
     "name": "stdout",
     "output_type": "stream",
     "text": [
      "NVIDIA GeForce RTX 4090 D\n"
     ]
    }
   ],
   "source": [
    "device=torch.device('cuda' if torch.cuda.is_available() else 'cpu')\n",
    "# 'cuda' 这里如果没有指定具体的卡号,系统默认cuda:0\n",
    "device = torch.device('cuda:0') \t\t# 使用2号卡\n",
    "print(torch.cuda.get_device_name(0)) # 查看使用的设备名称"
   ]
  },
  {
   "cell_type": "code",
   "execution_count": 3,
   "id": "e9d5b66d-cc16-4f44-a514-cf00d1df6211",
   "metadata": {},
   "outputs": [],
   "source": [
    "class FNN(NN):\n",
    "    \"\"\"Fully-connected neural network.\"\"\"\n",
    "\n",
    "    def __init__(self, layer_sizes, activation, kernel_initializer, regularization=None ):\n",
    "        super().__init__()\n",
    "        if isinstance(activation, list):\n",
    "            if not (len(layer_sizes) - 1) == len(activation):\n",
    "                raise ValueError(\n",
    "                    \"Total number of activation functions do not match with sum of hidden layers and output layer!\"\n",
    "                )\n",
    "            self.activation = list(map(activations.get, activation))\n",
    "        else:\n",
    "            self.activation = activations.get(activation)\n",
    "        initializer = initializers.get(kernel_initializer)\n",
    "        initializer_zero = initializers.get(\"zeros\")\n",
    "        \n",
    "        self.regularizer = regularization  # =None\n",
    "        \n",
    "        self.linears = torch.nn.ModuleList()\n",
    "        for i in range(1, len(layer_sizes)):\n",
    "            self.linears.append(\n",
    "                torch.nn.Linear(\n",
    "                    layer_sizes[i - 1], layer_sizes[i], dtype=config.real(torch)\n",
    "                )\n",
    "            )\n",
    "            initializer(self.linears[-1].weight)\n",
    "            initializer_zero(self.linears[-1].bias)\n",
    "\n",
    "    def forward(self, inputs):\n",
    "        x = inputs\n",
    "        if self._input_transform is not None:\n",
    "            x = self._input_transform(x)\n",
    "        for j, linear in enumerate(self.linears[:-1]):\n",
    "            x = (\n",
    "                self.activation[j](linear(x))\n",
    "                if isinstance(self.activation, list)\n",
    "                else self.activation(linear(x))\n",
    "            )\n",
    "        x = self.linears[-1](x)\n",
    "        if self._output_transform is not None:\n",
    "            x = self._output_transform(inputs, x)\n",
    "        return x"
   ]
  },
  {
   "cell_type": "code",
   "execution_count": 4,
   "id": "dec5c875-d547-4b15-b9a6-9d5a5e322782",
   "metadata": {},
   "outputs": [],
   "source": [
    "#标准差\n",
    "class DatasetsConstruct_AveNe2V:\n",
    "\n",
    "    def for_train(self):\n",
    "        AVE_Ne = pd.read_csv(\"F:\\\\DNNIPM4RF\\\\data\\\\AVE_Ne_train.csv\",encoding='gbk', header=None)\n",
    "        voltage = pd.read_csv(\"F:\\\\DNNIPM4RF\\\\data\\\\voltage_train.csv\",encoding='gbk', header=None)\n",
    "        AVE_Ne_mean = pd.read_csv(\"F:\\\\DNNIPM4RF\\\\data\\\\AVE_Ne_mean_train.csv\",encoding='gbk', header=None)\n",
    "        input_train = pd.read_csv(\"F:\\\\DNNIPM4RF\\\\data\\\\input_train.csv\",encoding='gbk', header=None)\n",
    "        \n",
    "        MeanAveNe_scaler = MinMaxScaler(feature_range=(0,1))\n",
    "        voltage_scaler = MinMaxScaler(feature_range=(0,1))\n",
    "        AveNe_scaler = MinMaxScaler(feature_range=(0,1))\n",
    "        VS_scaler = MinMaxScaler(feature_range=(0,1))  #voltage and electrode space\n",
    "        \n",
    "        AVE_Ne = AveNe_scaler.fit_transform(AVE_Ne)\n",
    "        voltage = voltage_scaler.fit_transform(voltage)\n",
    "  \n",
    "        AVE_Ne_mean = MeanAveNe_scaler.fit_transform(AVE_Ne_mean)      \n",
    "        input_train = VS_scaler.fit_transform(input_train)\n",
    "        \n",
    "        self.MeanAveNe_scaler = MeanAveNe_scaler\n",
    "        self.voltage_scaler = voltage_scaler\n",
    "        self.AveNe_scaler = AveNe_scaler\n",
    "        self.VS_scaler = VS_scaler\n",
    " \n",
    "        index = [i for i in range(len(AVE_Ne_mean))]\n",
    "        np.random.shuffle(index) \n",
    "        AVE_Ne_mean= AVE_Ne_mean[index]   \n",
    "        voltage = voltage[index]\n",
    "\n",
    "        index1 = [i for i in range(len(AVE_Ne))]\n",
    "        np.random.shuffle(index1) \n",
    "        AVE_Ne= AVE_Ne[index1]\n",
    "        input_train = input_train[index1]\n",
    "\n",
    "        data4AveNe2V = Tuple(AVE_Ne_mean, voltage, AVE_Ne_mean, voltage)\n",
    "        data4V2AveNe = Tuple(input_train, AVE_Ne, input_train, AVE_Ne)\n",
    "\n",
    "        print(\"voltage:\", voltage.shape)\n",
    "        print(\"input_train:\", input_train.shape)\n",
    "        print(\"AVE_Ne:\", AVE_Ne.shape)\n",
    "        print(\"AVE_Ne_mean:\", AVE_Ne_mean.shape)\n",
    "        return data4AveNe2V, data4V2AveNe\n",
    "\n",
    "    def for_verify_integral(self, AVE_Ne_mean_input=0, voltage_input=0):\n",
    "\n",
    "        if AVE_Ne_mean_input != 0:\n",
    "            AVE_Ne_mean_input = np.array([AVE_Ne_mean_input],dtype='float32').reshape(-1, 1)\n",
    "            AVE_Ne_mean_input = self.MeanAveNe_scaler.transform(AVE_Ne_mean_input)\n",
    "            y_pred = model_AveNe2V.predict(AVE_Ne_mean_input)\n",
    "            y_pred = self.voltage_scaler.inverse_transform(y_pred)\n",
    "            print('预测电压为：', y_pred)\n",
    "\n",
    "        if voltage_input != 0:\n",
    "            self.num3 = str(voltage_input)\n",
    "            num_validate = np.linspace(start=1, stop=199, num=199, dtype='float32').reshape(-1, 1)\n",
    "            voltage_validate = np.full(199, voltage_input, dtype='float32').reshape(-1, 1) #与下面的voltage_validate用处不同\n",
    "            input_train_validate = np.hstack((num_validate, voltage_validate))\n",
    "            input_train_validate = self.VS_scaler.transform(input_train_validate)\n",
    "\n",
    "            s_pred = model_V2AveNe.predict(input_train_validate)\n",
    "            s_pred = self.AveNe_scaler.inverse_transform(s_pred)\n",
    "\n",
    "            #plt.plot(num_validate.ravel(), s_pred.ravel())\n",
    "            ax.plot(s_pred/1E10,  linestyle=\"-\",label=self.num3+\"V Predicted\")\n",
    "            ax.legend(bbox_to_anchor=(0.17,0.75),loc='center',prop={'size':7},frameon=False)\n",
    "            ax.set_xlabel(\"Electrode spacing (cm)\")   \n",
    "            ax.set_ylabel(\"Time-averaged density (1E10 cm$^{-3}$)\")\n",
    "            ax.set_xticks([0, 41.67, 83.3, 125, 166.67, 200], labels=['0', '0.05', '0.10', '0.15', '0.20', '0.24'])\n",
    "            ax.tick_params(top=True,bottom=True,left=True,right=True,direction='in')"
   ]
  },
  {
   "cell_type": "code",
   "execution_count": 5,
   "id": "bd500d89-25de-403f-8de2-3a91e221cfd8",
   "metadata": {
    "scrolled": true
   },
   "outputs": [
    {
     "name": "stdout",
     "output_type": "stream",
     "text": [
      "voltage: (32, 1)\n",
      "input_train: (6368, 2)\n",
      "AVE_Ne: (6368, 1)\n",
      "AVE_Ne_mean: (32, 1)\n"
     ]
    }
   ],
   "source": [
    "dataset_AveNe2V = DatasetsConstruct_AveNe2V()\n",
    "data4AveNe2V, data4V2AveNe = dataset_AveNe2V.for_train()"
   ]
  },
  {
   "cell_type": "code",
   "execution_count": 6,
   "id": "f939a033-d990-419f-91d6-3494943c577d",
   "metadata": {},
   "outputs": [],
   "source": [
    "net_AveNe2V = FNN(\n",
    "    [1,30, 30,30, 30,1],\n",
    "    \"gelu\",\n",
    "    \"Glorot normal\",\n",
    "    regularization=[\"l2\",1e-8]\n",
    ")"
   ]
  },
  {
   "cell_type": "code",
   "execution_count": 7,
   "id": "3092bc87-5266-4b9c-860c-7ba3b0c3b061",
   "metadata": {},
   "outputs": [],
   "source": [
    "net_V2AveNe = FNN(\n",
    "    [2,300, 300,300, 300,1],\n",
    "    \"gelu\",\n",
    "    \"Glorot normal\",\n",
    "    regularization=[\"l2\",1e-8]\n",
    ")"
   ]
  },
  {
   "cell_type": "code",
   "execution_count": 8,
   "id": "61ec2d4d-414d-432b-b6e8-853138e6d6cd",
   "metadata": {},
   "outputs": [
    {
     "name": "stdout",
     "output_type": "stream",
     "text": [
      "Compiling model...\n",
      "'compile' took 0.555905 s\n",
      "\n"
     ]
    }
   ],
   "source": [
    "model_AveNe2V = dde.Model(data4AveNe2V, net_AveNe2V)\n",
    "model_AveNe2V.compile(\"adamw\", lr=0.0005,decay=[\"step\",500000,0.5], metrics=[\"mean l2 relative error\"])\n",
    "model_AveNe2V.restore('F:\\\\DNNIPM4RF\\\\model\\\\AveNe2V-296000.pt')"
   ]
  },
  {
   "cell_type": "code",
   "execution_count": 9,
   "id": "d9d6b7c6-0b63-44b9-98ce-1bee555dd1fd",
   "metadata": {},
   "outputs": [
    {
     "name": "stdout",
     "output_type": "stream",
     "text": [
      "Compiling model...\n",
      "'compile' took 0.000354 s\n",
      "\n"
     ]
    }
   ],
   "source": [
    "model_V2AveNe = dde.Model(data4V2AveNe, net_V2AveNe)\n",
    "model_V2AveNe.compile(\"adamw\", lr=0.0005,decay=[\"step\",500000,0.5], metrics=[\"mean l2 relative error\"])\n",
    "model_V2AveNe.restore('F:\\\\DNNIPM4RF\\\\model\\\\V2AveNe-358000.pt')"
   ]
  },
  {
   "cell_type": "code",
   "execution_count": 10,
   "id": "6fb20c52-5431-403c-80d3-e9160bb006f0",
   "metadata": {},
   "outputs": [
    {
     "name": "stdout",
     "output_type": "stream",
     "text": [
      "预测电压为： [[634.3803]]\n"
     ]
    }
   ],
   "source": [
    "verify_AveNe2V = dataset_AveNe2V.for_verify_integral(AVE_Ne_mean_input=1.7E+10, voltage_input=0)"
   ]
  },
  {
   "cell_type": "code",
   "execution_count": 11,
   "id": "1aaf936e-711e-4667-906a-b83da1fe0693",
   "metadata": {},
   "outputs": [
    {
     "data": {
      "image/png": "[encoded data removed]",
      "text/plain": [
       "<Figure size 600x500 with 1 Axes>"
      ]
     },
     "metadata": {},
     "output_type": "display_data"
    }
   ],
   "source": [
    "fig, ax = plt.subplots(1, 1, figsize=(6, 5))  #在这里设置画布，是因为如果在dataset_MaxNe2V里面设置的话，每次循环都会重置\n",
    "dataset_AveNe2V.for_verify_integral( AVE_Ne_mean_input=0, voltage_input=360)"
   ]
  }
 ],
 "metadata": {
  "kernelspec": {
   "display_name": "Python [conda env:python]",
   "language": "python",
   "name": "conda-env-python-py"
  },
  "language_info": {
   "codemirror_mode": {
    "name": "ipython",
    "version": 3
   },
   "file_extension": ".py",
   "mimetype": "text/x-python",
   "name": "python",
   "nbconvert_exporter": "python",
   "pygments_lexer": "ipython3",
   "version": "3.9.20"
  }
 },
 "nbformat": 4,
 "nbformat_minor": 5
}
